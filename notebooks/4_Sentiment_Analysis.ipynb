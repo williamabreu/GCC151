{
 "cells": [
  {
   "cell_type": "markdown",
   "metadata": {},
   "source": [
    "# Análise de Sentimentos"
   ]
  },
  {
   "cell_type": "markdown",
   "metadata": {},
   "source": [
    "Treinando a machine learning, utilizando o dataset recebido por email. (Faça o download e coloque a pasta dentro do repositorio)"
   ]
  },
  {
   "cell_type": "code",
   "execution_count": 1,
   "metadata": {},
   "outputs": [],
   "source": [
    "import os\n",
    "import xmltodict\n",
    "import pandas as pd\n",
    "os.chdir('..')"
   ]
  },
  {
   "cell_type": "code",
   "execution_count": 2,
   "metadata": {},
   "outputs": [],
   "source": [
    "dataset_path = 'trainset/'\n",
    "all_files = []\n",
    "for directory in os.listdir(dataset_path):\n",
    "    if directory != '.DS_Store':\n",
    "        for stars in os.listdir(dataset_path + directory):\n",
    "            for file in os.listdir(dataset_path + directory + '/' + stars):\n",
    "                if 'xml' in file:\n",
    "                    all_files.append('{}{}/{}/{}'.format(dataset_path, directory, stars, file))"
   ]
  },
  {
   "cell_type": "code",
   "execution_count": 49,
   "metadata": {},
   "outputs": [],
   "source": [
    "dataset = {'trainset':[], 'polarity':[], 'bin_polarity': [], 'review':[]}\n",
    "for file in all_files:\n",
    "    filename = file.split('/')[-1]\n",
    "    with open(file, 'r') as text_file:\n",
    "        data = text_file.read()\n",
    "        try:\n",
    "            dict_data = xmltodict.parse(data)\n",
    "            dataset['trainset'].append(filename)\n",
    "            polarity = float(dict_data['review']['stars']['@value'])\n",
    "            bin_polarity = 1 if polarity > 5 else 0  # transform into binary polarity\n",
    "            dataset['bin_polarity'].append(bin_polarity)\n",
    "            dataset['polarity'].append(polarity)\n",
    "            dataset['review'].append(dict_data['review']['opinion'])\n",
    "        except:\n",
    "            print('Arquivo {} está com xml mal formatado'.format(file))\n",
    "\n",
    "            "
   ]
  },
  {
   "cell_type": "code",
   "execution_count": 52,
   "metadata": {},
   "outputs": [
    {
     "data": {
      "text/html": [
       "<div>\n",
       "<style scoped>\n",
       "    .dataframe tbody tr th:only-of-type {\n",
       "        vertical-align: middle;\n",
       "    }\n",
       "\n",
       "    .dataframe tbody tr th {\n",
       "        vertical-align: top;\n",
       "    }\n",
       "\n",
       "    .dataframe thead th {\n",
       "        text-align: right;\n",
       "    }\n",
       "</style>\n",
       "<table border=\"1\" class=\"dataframe\">\n",
       "  <thead>\n",
       "    <tr style=\"text-align: right;\">\n",
       "      <th></th>\n",
       "      <th>bin_polarity</th>\n",
       "      <th>polarity</th>\n",
       "      <th>review</th>\n",
       "      <th>trainset</th>\n",
       "    </tr>\n",
       "  </thead>\n",
       "  <tbody>\n",
       "    <tr>\n",
       "      <th>0</th>\n",
       "      <td>0</td>\n",
       "      <td>3.0</td>\n",
       "      <td>Se não fosse o uniforme do palmeiras seria uma...</td>\n",
       "      <td>0_189781.xml</td>\n",
       "    </tr>\n",
       "    <tr>\n",
       "      <th>1</th>\n",
       "      <td>0</td>\n",
       "      <td>3.0</td>\n",
       "      <td>BBB\\n\\nO que gostei: GGG\\n\\nO que não gostei: ...</td>\n",
       "      <td>0_366331.xml</td>\n",
       "    </tr>\n",
       "    <tr>\n",
       "      <th>2</th>\n",
       "      <td>0</td>\n",
       "      <td>3.0</td>\n",
       "      <td>Um bom produto por um preço de melhor ainda.\\n...</td>\n",
       "      <td>0_308224.xml</td>\n",
       "    </tr>\n",
       "    <tr>\n",
       "      <th>3</th>\n",
       "      <td>0</td>\n",
       "      <td>3.0</td>\n",
       "      <td>Essa camiseta do time esfecifico é muito boa p...</td>\n",
       "      <td>2_170381.xml</td>\n",
       "    </tr>\n",
       "    <tr>\n",
       "      <th>4</th>\n",
       "      <td>0</td>\n",
       "      <td>3.0</td>\n",
       "      <td>NÃO TENHO MUiTO O QUE DiZER,AFiNAL COMPREi PAR...</td>\n",
       "      <td>0_458303.xml</td>\n",
       "    </tr>\n",
       "  </tbody>\n",
       "</table>\n",
       "</div>"
      ],
      "text/plain": [
       "   bin_polarity  polarity                                             review  \\\n",
       "0             0       3.0  Se não fosse o uniforme do palmeiras seria uma...   \n",
       "1             0       3.0  BBB\\n\\nO que gostei: GGG\\n\\nO que não gostei: ...   \n",
       "2             0       3.0  Um bom produto por um preço de melhor ainda.\\n...   \n",
       "3             0       3.0  Essa camiseta do time esfecifico é muito boa p...   \n",
       "4             0       3.0  NÃO TENHO MUiTO O QUE DiZER,AFiNAL COMPREi PAR...   \n",
       "\n",
       "       trainset  \n",
       "0  0_189781.xml  \n",
       "1  0_366331.xml  \n",
       "2  0_308224.xml  \n",
       "3  2_170381.xml  \n",
       "4  0_458303.xml  "
      ]
     },
     "execution_count": 52,
     "metadata": {},
     "output_type": "execute_result"
    }
   ],
   "source": [
    "dataframe = pd.DataFrame(data=dataset)\n",
    "dataframe.head()"
   ]
  },
  {
   "cell_type": "code",
   "execution_count": null,
   "metadata": {},
   "outputs": [],
   "source": []
  }
 ],
 "metadata": {
  "kernelspec": {
   "display_name": "Python 3",
   "language": "python",
   "name": "python3"
  },
  "language_info": {
   "codemirror_mode": {
    "name": "ipython",
    "version": 3
   },
   "file_extension": ".py",
   "mimetype": "text/x-python",
   "name": "python",
   "nbconvert_exporter": "python",
   "pygments_lexer": "ipython3",
   "version": "3.5.3"
  }
 },
 "nbformat": 4,
 "nbformat_minor": 2
}
