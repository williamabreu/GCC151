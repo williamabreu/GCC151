{
 "cells": [
  {
   "cell_type": "markdown",
   "metadata": {},
   "source": [
    "# Normalização dos Corpora"
   ]
  },
  {
   "cell_type": "markdown",
   "metadata": {},
   "source": [
    "Este notebook cria o modelo normalizado dos corpora compilados, de forma que:\n",
    "- Constrói o modelo a partir das sentenças do córpus\n",
    "- Faz o uso do modelo obtido para consultar similaridade de palavras\n",
    "- Apresenta comentários acerca dos resultados obtidos"
   ]
  },
  {
   "cell_type": "markdown",
   "metadata": {},
   "source": [
    "## Configurações Iniciais"
   ]
  },
  {
   "cell_type": "markdown",
   "metadata": {},
   "source": [
    "Primeiramente, fazer o ajuste no path do Python para a raíz do projeto:"
   ]
  },
  {
   "cell_type": "code",
   "execution_count": 1,
   "metadata": {},
   "outputs": [],
   "source": [
    "import os\n",
    "os.chdir('..')"
   ]
  },
  {
   "cell_type": "markdown",
   "metadata": {},
   "source": [
    "-------------------"
   ]
  },
  {
   "cell_type": "markdown",
   "metadata": {},
   "source": [
    "## Modelo Word2Vec"
   ]
  },
  {
   "cell_type": "markdown",
   "metadata": {},
   "source": [
    "Carregar a biblioteca do modelo ```Word2Vec``` e do normalizador:"
   ]
  },
  {
   "cell_type": "code",
   "execution_count": 2,
   "metadata": {},
   "outputs": [],
   "source": [
    "from gensim.models import Word2Vec\n",
    "from nlputils.lexical.normalizer import Normalizer"
   ]
  },
  {
   "cell_type": "markdown",
   "metadata": {},
   "source": [
    "Instanciar um objeto para fazer as normalizações necessárias:"
   ]
  },
  {
   "cell_type": "code",
   "execution_count": 3,
   "metadata": {},
   "outputs": [],
   "source": [
    "normalizer = Normalizer()"
   ]
  },
  {
   "cell_type": "markdown",
   "metadata": {},
   "source": [
    "Implementar uma função para auxiliar no carregamento das sentenças a serem usadas no treinamento do modelo. "
   ]
  },
  {
   "cell_type": "markdown",
   "metadata": {},
   "source": [
    "A função ```load_sentences``` recebe como entrada a string indicando o path do diretório do córpus a ser usado, retornando a lista contendo todas as sentenças desse córpus:"
   ]
  },
  {
   "cell_type": "code",
   "execution_count": 4,
   "metadata": {},
   "outputs": [],
   "source": [
    "def load_sentences(corpus_dir):   \n",
    "    all_sentences = []\n",
    "    for file_path in os.listdir(corpus_dir):\n",
    "        with open(corpus_dir + file_path) as fp:\n",
    "            for line in fp:\n",
    "                line = normalizer.to_lowercase(line)\n",
    "                sentences = normalizer.tokenize_sentences(line)\n",
    "                sentences = [normalizer.tokenize_words(sent) for sent in sentences]\n",
    "                all_sentences.extend(sentences)\n",
    "    return all_sentences"
   ]
  },
  {
   "cell_type": "markdown",
   "metadata": {},
   "source": [
    "----------------"
   ]
  },
  {
   "cell_type": "markdown",
   "metadata": {},
   "source": [
    "## Word2Vec do Córpus Telefonia"
   ]
  },
  {
   "cell_type": "markdown",
   "metadata": {},
   "source": [
    "Primeiro, carregar todas as sentenças do córpus:"
   ]
  },
  {
   "cell_type": "code",
   "execution_count": 5,
   "metadata": {},
   "outputs": [],
   "source": [
    "telefonia_sentences = load_sentences('data/corpora/telefonia/')"
   ]
  },
  {
   "cell_type": "markdown",
   "metadata": {},
   "source": [
    "Depois, usar as sentenças obtidas como treinamento do modelo, que será instanciado em ```telefonia_w2vmodel```:"
   ]
  },
  {
   "cell_type": "code",
   "execution_count": 6,
   "metadata": {},
   "outputs": [],
   "source": [
    "telefonia_w2vmodel = Word2Vec(telefonia_sentences, size=200, window=5, min_count=3, workers=4)"
   ]
  },
  {
   "cell_type": "markdown",
   "metadata": {},
   "source": [
    "### Usando o modelo construído"
   ]
  },
  {
   "cell_type": "markdown",
   "metadata": {},
   "source": [
    "Com o modelo construído, pode ser feita a consulta das 10 palavras mais similares de uma dada palavras, usando o método ```wv.most_similar```. A seguir e dado o exemplo de uso com três palavras:"
   ]
  },
  {
   "cell_type": "code",
   "execution_count": 7,
   "metadata": {},
   "outputs": [
    {
     "name": "stdout",
     "output_type": "stream",
     "text": [
      "telefonia ==> base, patentes, américa, tim, apenas, mil, segurança, graças, rede, espaço\n",
      "sistema ==> fora, pelas, presidente, processo, xperia, vender, depois, todo, usar, toda\n",
      "internet ==> após, segurança, espaço, serviços, problemas, protótipos, foram, display, agência, tim\n"
     ]
    }
   ],
   "source": [
    "words = ['telefonia', 'sistema', 'internet']\n",
    "\n",
    "for word in words:\n",
    "    top10 = telefonia_w2vmodel.wv.most_similar(word)\n",
    "    print(word, '==>', ', '.join([x[0] for x in top10]))"
   ]
  },
  {
   "cell_type": "markdown",
   "metadata": {},
   "source": [
    "### Comentários acerca dos resultados do modelo"
   ]
  },
  {
   "cell_type": "markdown",
   "metadata": {},
   "source": [
    "- O modelo é impreciso, devido ao córpus ser composto por poucos documentos.\n",
    "- Além disso, a formatação dos documentos não é perfeita, existem palavras que estão concatenadas entre si ou com sinais de ponto final, o que deixa muita sujeira nos dados do treinamento."
   ]
  },
  {
   "cell_type": "markdown",
   "metadata": {},
   "source": [
    "---------------"
   ]
  },
  {
   "cell_type": "markdown",
   "metadata": {},
   "source": [
    "## Word2Vec do Córpus Saúde"
   ]
  },
  {
   "cell_type": "markdown",
   "metadata": {},
   "source": [
    "Primeiro, carregar todas as sentenças do córpus:"
   ]
  },
  {
   "cell_type": "code",
   "execution_count": 8,
   "metadata": {},
   "outputs": [],
   "source": [
    "saude_sentences = load_sentences('data/corpora/saude/')"
   ]
  },
  {
   "cell_type": "markdown",
   "metadata": {},
   "source": [
    "Depois, usar as sentenças obtidas como treinamento do modelo, que será instanciado em ```telefonia_w2vmodel```:"
   ]
  },
  {
   "cell_type": "code",
   "execution_count": 9,
   "metadata": {},
   "outputs": [],
   "source": [
    "saude_w2vmodel = Word2Vec(saude_sentences, size=200, window=5, min_count=3, workers=4)"
   ]
  },
  {
   "cell_type": "markdown",
   "metadata": {},
   "source": [
    "### Usando o modelo construído"
   ]
  },
  {
   "cell_type": "markdown",
   "metadata": {},
   "source": [
    "Com o modelo construído, pode ser feita a consulta das 10 palavras mais similares de uma dada palavras, usando o método ```wv.most_similar```. A seguir e dado o exemplo de uso com três palavras:"
   ]
  },
  {
   "cell_type": "code",
   "execution_count": 10,
   "metadata": {},
   "outputs": [
    {
     "name": "stdout",
     "output_type": "stream",
     "text": [
      "saúde ==> sigla, mundial, da, opas, aquiraz, brasileira, universidade, organização, sociedade, sanitária\n",
      "doença ==> criança, paciente, previsão, pessoa, cicatrização, ver, jeito, certamente, desafio, esse\n",
      "prevenção ==> criação, grupo, cfm, posicionamento, infantil, chegou, entrada, maconha, plasma, pressão\n"
     ]
    }
   ],
   "source": [
    "words = ['saúde', 'doença', 'prevenção']\n",
    "\n",
    "for word in words:\n",
    "    top10 = saude_w2vmodel.wv.most_similar(word)\n",
    "    print(word, '==>', ', '.join([x[0] for x in top10]))"
   ]
  },
  {
   "cell_type": "markdown",
   "metadata": {},
   "source": [
    "### Comentários acerca dos resultados do modelo"
   ]
  },
  {
   "cell_type": "markdown",
   "metadata": {},
   "source": [
    "- O modelo é impreciso, devido ao córpus ser composto por poucos documentos.\n",
    "- Além disso, a formatação dos documentos não é perfeita, existem palavras que estão concatenadas entre si ou com sinais de ponto final, o que deixa muita sujeira nos dados do treinamento."
   ]
  },
  {
   "cell_type": "markdown",
   "metadata": {},
   "source": [
    "-----------------"
   ]
  },
  {
   "cell_type": "markdown",
   "metadata": {},
   "source": [
    "## Modelo Doc2Vec"
   ]
  },
  {
   "cell_type": "markdown",
   "metadata": {},
   "source": [
    "Carregar as bibliotecas do modelo ```Doc2Vec``` e ```scipy``` para cálculos:"
   ]
  },
  {
   "cell_type": "code",
   "execution_count": 11,
   "metadata": {},
   "outputs": [],
   "source": [
    "from gensim.models import Doc2Vec\n",
    "from gensim.models.doc2vec import TaggedDocument\n",
    "from scipy import spatial"
   ]
  },
  {
   "cell_type": "markdown",
   "metadata": {},
   "source": [
    "Implementar função para facilitar obtenção de todos os documentos dos corpora:"
   ]
  },
  {
   "cell_type": "code",
   "execution_count": 12,
   "metadata": {},
   "outputs": [],
   "source": [
    "def corpus_documents(corpus_dir):\n",
    "    all_documents = []\n",
    "    for file in os.listdir(corpus_dir):\n",
    "        with open(corpus_dir + file) as text_file:\n",
    "            document = ' '.join(text_file.readlines())\n",
    "            document = normalizer.to_lowercase(document)\n",
    "            # document = normalizer.remove_ponctuations(document)\n",
    "            document_tokens = normalizer.tokenize_words(document)\n",
    "            # document_tokens = normalizer.remove_stopwords(document_tokens)\n",
    "            all_documents.append(document_tokens)\n",
    "    return all_documents"
   ]
  },
  {
   "cell_type": "markdown",
   "metadata": {},
   "source": [
    "Juntar os documentos dos dois córpus, telefonia e saúde, para montar a tag que será usada na construção do modelo Doc2Vec:"
   ]
  },
  {
   "cell_type": "code",
   "execution_count": 13,
   "metadata": {},
   "outputs": [],
   "source": [
    "all_documents = []\n",
    "all_documents.extend(corpus_documents('data/corpora/telefonia/'))\n",
    "all_documents.extend(corpus_documents('data/corpora/saude/'))\n",
    "\n",
    "tagged_documents = [TaggedDocument(words=d, tags=[str(i)]) for i, d in enumerate(all_documents)]"
   ]
  },
  {
   "cell_type": "markdown",
   "metadata": {},
   "source": [
    "Construção do modelo, atribuído em ```d2vmodel```:"
   ]
  },
  {
   "cell_type": "code",
   "execution_count": 14,
   "metadata": {},
   "outputs": [],
   "source": [
    "d2vmodel = Doc2Vec(tagged_documents, vector_size=20, window=2, min_count=1, workers=4)"
   ]
  },
  {
   "cell_type": "markdown",
   "metadata": {},
   "source": [
    "### Usando o modelo construído"
   ]
  },
  {
   "cell_type": "markdown",
   "metadata": {},
   "source": [
    "O modelo criado pode ser usado para comparar o grau de semelhança entre dois documentos. Para isso, será usada a função ```similarity```, que recebe dois vetores inferidos pelo modelo e retorna o valor calculado de semelhança (entre 0 e 1):"
   ]
  },
  {
   "cell_type": "code",
   "execution_count": 15,
   "metadata": {},
   "outputs": [],
   "source": [
    "def similarity(vector1, vector2):\n",
    "    return 1 - spatial.distance.cosine(vector1, vector2)"
   ]
  },
  {
   "cell_type": "markdown",
   "metadata": {},
   "source": [
    "Será exemplificado o uso usando três documentos:"
   ]
  },
  {
   "cell_type": "code",
   "execution_count": 16,
   "metadata": {},
   "outputs": [],
   "source": [
    "doc1 = all_documents[10]\n",
    "doc2 = all_documents[1]\n",
    "doc3 = all_documents[-1]\n",
    "\n",
    "vector_1 = d2vmodel.infer_vector(doc1)\n",
    "vector_2 = d2vmodel.infer_vector(doc2)\n",
    "vector_3 = d2vmodel.infer_vector(doc3)"
   ]
  },
  {
   "cell_type": "markdown",
   "metadata": {},
   "source": [
    "Conteúdo do ```doc1```:"
   ]
  },
  {
   "cell_type": "code",
   "execution_count": 17,
   "metadata": {
    "scrolled": true
   },
   "outputs": [
    {
     "name": "stdout",
     "output_type": "stream",
     "text": [
      "como sabemos , a filha do fundador da huawei está presa no país norte-americano desde dezembro . assim , os eua pedem que ela responda em seu território a todas as acusações como espionagem , fraude bancária e violação de sanções contra o irã.além disso , o processo também envolve duas empresas que são subsidiárias da huawei e que , segundo o governo dos eua , foram usadas para promover a espionagem industrial no país e furar o bloqueio comercial imposto ao país árabe.segundo promotores do caso , a huawei ainda roubou informações sobre um robô que a operadora t-mobile usa para testar smartphones . eles citam que engenheiros da empresa fotografaram , mediram e até pegaram um componente usado pelo dispositivo.além disso , a fabricante chinesa também é acusada de premiar funcionários que roubam informações de empresas concorrentes . de acordo com christopher wray , diretor de investigações , o processo é um avanço contra a conduta da huawei : o caso expõem as ações descaradas e persistentes da huawei para explorar empresas e instituições financeiras americanas e para ameaçar o livre e justo mercado globalhuawei respondeapós a divulgação de todas as acusações e a confirmação de que o governo canadense já recebeu o pedido de extradição , a huawei divulgou uma nota se defendendo : a empresa nega que ela ou sua subsidiária ou afiliada tenha cometido qualquer uma das violações declaradas na lei dos eua e estabelecidas em cada uma das acusações . nós também não temos conhecimento de qualquer delito cometido pela sra . meng e acreditamos que os tribunais dos eua alcançarão o mesmo fim.já o ministério de relações exteriores da china comentou o caso acusando o governo dos eua de perseguir empresas do país devido o seu crescimento tecnológico : pedimos veementemente aos eua que deixem de atacar a huawei e outras empresas chinesas de forma irrazoável . mais uma vez , instamos os eua a revogar o mandado de prisão de meng wanzhou e pedimos que eles se abstenham de emitir um pedido formal de extradição para evitar ir mais longe por um caminho cheio de erros.vale lembrar que o caso deve respingar na próxima rodada de negociações comerciais envolvendo china e estados unidos . além disso , a situação praticamente obrigou o embaixador do canadá no país asiático a renunciar o cargo a pedido do primeiro ministro justin trudeau.o huawei mate 20 rs porsche design ainda não está disponível nas lojas brasileiras . para ser notificado quando ele chegar clique aqui.o huawei mate 20 x ainda não está disponível nas lojas brasileiras . para ser notificado quando ele chegar clique aqui .\n"
     ]
    }
   ],
   "source": [
    "print(' '.join(doc1))"
   ]
  },
  {
   "cell_type": "markdown",
   "metadata": {},
   "source": [
    "Conteúdo do ```doc2```:"
   ]
  },
  {
   "cell_type": "code",
   "execution_count": 18,
   "metadata": {
    "scrolled": true
   },
   "outputs": [
    {
     "name": "stdout",
     "output_type": "stream",
     "text": [
      "assim como estamos noticiando há algum tempo , ao que tudo indica a apple deverá adotar de fato um design um tanto quanto curioso – para não dizer esquisito – com relação a parte traseira dos novos iphones xi e xi max , aguardados para o terceiro trimestre desse ano , trazendo 3 câmeras traseiras arranjadas em um layout triangular.agora , após renderizações não oficiais liberadas ainda ontem terem revelado o design do modelo branco com sua câmera tripla e seu design frontal reciclado , novas imagens e um vídeo nos mostram de perto todos os detalhes desse arranjo fotográfico singular ; confira o vídeo logo abaixo.como podemos observar no vídeo – e em melhores detalhes nas imagens a seguir , as câmeras dos novos iphones ficarão alocadas em uma espécie de lombada mais suave , com curvas feitas em vidro que saem da superfície plana do resto do painel traseiro para o arranjo de câmeras , em um design que lembra um pouco o que víamos no iphone 7 e 7 plus , sendo a única diferença o material , vidro ao invés de alumínio.a semelhança entre as curvas da câmera dos novos iphones ( esquerda ) e dos lançados em 2016  imagens : reprodução/phonearenaao que indicam os vazamentos , essa pequena curvatura será feita em um vidro transparente , adotando por consequência a cor vista no painel traseiro e na própria lombada das câmeras – que ao contrário do que acontece nos modelos desde o iphone x , deve assumir a mesma cor do aparelho.e por falar nessa protuberância , graças a um suposto aumento da capacidade das baterias dos novos smartphones , deixando-os um pouco mais grossos , é possível que o arranjo fotográfico fique cerca de 2mm mais baixo , ficando quase que imperceptível ao apoiar o smartphone numa superfície plana.imagens : reprodução/phonearenatrazendo um flash led quadruplo , um microfone e três lentes de 12 megapixels , sendo elas uma primária , uma telefoto e uma de ângulo aberto , as novas renderizações dão a entender que esses elementos ficarão meio que “ afundados ” dentro da lombada , com as lentes levemente saltadas para fora , mas ainda dentro do corpo da protuberância , mantendo o alinhamento.ainda não está claro , porém , se a maçã trará melhorias quanto a capacidade de zoom dos novos aparelhos e quais serão as novidades de software que serão implementadas com a chegada da lente grande angular.com relação a câmera frontal , espera-se que a apple finalmente dê uma atualizada em seus números , adotando uma câmera de 12 megapixels para quem gosta de tirar selfies . desde o iphone 7 , que carrega consigo um sensor frontal de 7 megapixels com abertura f/2.2 , que a empresa de cupertino não apresenta mudanças em relação a esse aspecto do sensor.muitos vazamentos já declararam que em 2019 a apple deve apresentar mais uma vez seus smartphones com painel idêntico em estética quando comparado com o modelo anunciado dois anos atrás . mas agora mais imagens voltam a destacar o possível design final do iphone xi e xi max , exibindo a tela reciclada do iphone x com mesmo notch largo e novo arranjo de câmeras traseiras.na imagem logo abaixo você pode comparar os dois novos modelos de iphone que chegam este ano , e se destaca o formato igual aos aparelhos de 2017 e 2018 , mas oferecendo um terceiro sensor nas câmeras principais , que deverá ser uma nova lente ultra-wide . dessa forma , os iphones de 2019 devem oferecer mesmo conjunto que os novos galaxy s10 : uma câmera comum , outra zoom e mais uma ultra-wide.abaixo você pode conferir a comparação entre os novos modelos : o iphone xi max branco de um lado e o iphone xi preto do outro , reforçando que além do tamanho , tela , e bateria os aparelhos devem oferecer mesmo desempenho e especificações.o iphone xi deve seguir oferecendo a atual tela de 5,8 polegadas enquanto o modelo maior , o xi max apostaria em um painel de 6,5 polegadas . por enquanto ainda não existem detalhes sobre o sucessor do iphone xr.após ter sido vazado na tarde da última quinta-feira ( 25 ) renders que indicam o design final do iphone xi e xi max de 2019 , mais imagens de renderizações dos novos smartphones da apple para o fim deste ano voltam a destacar que os modelos , de fato , devem oferecer poucas mudanças em relação ao iphone x de 2017.como você pode conferir nas imagens logo abaixo , vemos agora o iphone xi em mais dois ângulos : deitado em perspectiva isométrica destacando o painel frontal reciclado dos iphone x e iphone xs , mas com uma tampa traseira cujo grande módulo de câmera agora passa a ser quadrado , com grandes furos para as lentes que agora passam a ser desalinhadas ( ou em formato de triângulo ) .as imagens não trazem nada de novo , apenas reforçam todos os rumores até o momento de que este pode ser o design dos novos iphones deste ano . o que você achou ? a apple apresentará sua nova linha de iphones no final do ano . assim como no ano passado , esperamos três modelos diferentes , sendo um sucessor para o iphone xr e os dois sucessores para o iphone xs e iphone xs max.esse será o primeiro aparelho com essa configuração de câmeras da marca , e seguindo com o que aconteceu com a geração passada , devemos ver aqui uma tela de 5,8 polegadas , com notch largo e poucas bordas . aparentemente , ele terá as dimensões 143,9 x 71,4 x 7,8 mm.o que realmente muda é o formato do slider que habilita a função `` mudo '' do aparelho . na parte inferior , a saída de som , o microfone e a porta lightning , sem conexão usb-c.além das imagens exibindo o modelo na cor preta , foi divulgado ainda um vídeo com o dispositivo na cor branca , que pode fazer com que o sentimento de estranheza com esse visual fique ainda pior . confira : o resultado pode ser conferido em um vídeo recém-compartilhado no youtube , onde podemos ver detalhes interessantes como , por exemplo , a semelhança no design com os modelos atuais – com exceção da câmera na parte traseira , é claro : o responsável pela publicação ( site japonês macotakara ) adquiriu ambos os “ protótipos ” , que tiveram suas dimensões divulgadas anteriormente em outros vazamentos.eles form comprados no site chinês alibaba e produzidos de acordo com os dados já conhecidos sobre ambos os dispositivos – os iphones com tela oled de 6,1 e 6,5 polegadas.o grande destaque neles fica por conta do módulo extra para captura de imagens na parte traseira mas , aparentemente , mudanças internas também estão presentes como , por exemplo , a placa lógica que foi re-posicionada bem como a bateria , que agora traz um formato mais quadrado.depois de surgirem imagens do chassi do iphone xi indicando que o aparelho realmente vai contar com câmera tripla na parte traseira , agora é a vez de aparecerem módulos que mostram todo o design principal do próximo smartphone da apple.de acordo com as fotos , fica perceptível o formato estanho escolhido pela empresa para alinhar as 3 lentes do aparelho dentro de um compartimento quadrado na parte traseira . na imagem ainda fica perceptível que essa corpo vai ser usado em uma versão normal e outra maior.já na parte frontal a apple insiste em manter o seu notch , que já está ultrapassado e diversas empresas já abandonaram o uso dessa solução para manter a câmera frontal e disponibilizar maior aproveitamento de tela . mesmo que isso deixe muitos consumidores insatisfeitos , é o cumprimento de uma promessa feita pela própria empresa na apresentação do iphone x : manter o mesmo design por 10 anos.se a apple vai sobreviver às mudanças do mercado mobile para manter a sua palavra , só o tempo dirá , haja vista que já passou da hora da empresa da maçã encontrar outra solução para ter o face id como principal biometria , pois as marcas estão se reinventando e ela está ficando para trás no quesito que era pioneira.parece que a apple já teria garantido o design final dos novos modelos de iphone para 2019 que devem ser anunciados ainda no segundo semestre deste ano , em meados do mês de setembro como a empresa tradicionalmente já costuma fazer . e faltando apenas cinco meses até o anuncio dos novos smartphones da fabricante , rumores começam a indicar com mais propriedade a respeito do design final dos novos iphone xi.após ter esquemas vazados na última sexta-feira ( 29 ) indicando moldes da produção do chassi do smartphone , agora uma nova fotografia reforça que os esquemas estavam corretos e que parece que a apple realmente vai seguir o design das câmeras desalinhadas este ano com os novos iphones.como você pode conferir abaixo , temos o mesmo design que combina em cheio com os vazamentos anteriores : três círculos para as três câmeras traseiras , uma região quadrada para o flash e outra região retangular para um dos microfones traseiros do smartphone.ainda não está claro qual será a funcionalidade da terceira câmera principal do novo modelo , mas podemos sugerir duas vertentes que a apple poderá adotar . assim como já temos visto em smartphones android , uma terceira câmera traseira tem sido adotada para apresentar uma nova variante de estilo fotográfico com lente ultra-wide , ou ainda uma outra possibilidade de adotar um sensor tof 3d para capturar com perfeição a profundidade de campo e segmentar e recortar melhor os elementos da fotografia.atualmente podemos ambos os exemplos em diferentes fabricantes : a huawei apresentou o p30 pro com quatro câmeras traseiras oferecendo o sensor tof 3d como o `` ponto da exclamação '' ( logo abaixo do flash e sensores ) , e recentemente a samsung anunciou os novos galaxy s10 oferecendo uma terceira câmera de lente ultra-wide.muito provavelmente a apple já tem as especificações definidas para todas as três câmeras principais , então resta aguardarmos por novos vazamentos a medida que as semanas passam . o que você está achando dessa possibilidade de design dos novos iphones ? comente sua opinião aqui embaixo ! mesmo estando um pouco longe do lançamento oficial do iphone xi , diversas especulações sobre o produto continuam vazando na internet , levando os fãs da marca a ficaram com menos expectativa a cada ano.depois do design ser , praticamente , confirmado pelas renderizações que circulam na web , várias informações a respeito da bateria do celular começaram a surgir , onde há a possibilidade dele entregar uma bateria maior do que os modelos anteriores , bem como carregamento reverso wireless.de acordo com um relatório que foi enviado a investidores da empresa no início de 2019 , a apple tem estudado essa possibilidade para criar diferenciais que a aproximem de outras fabricantes que já estão usando esse recurso em seus produtos , como o mate 20 pro da huawei e o s10 plus da samsung. “ esperamos que os novos modelos do iphone 2h19 suportem o carregamento sem fio bidirecional . embora o iphone não seja o primeiro smartphone topo de linha a ser equipado com carregamento sem fio bidirecional , essa nova função pode tornar mais conveniente aos usuários carregar os novos airpods e criar uma melhor experiência de usuário integrada do iphone e airpods ” , disse ming-chi kuo para o site macrumors.de qualquer modo , não fica claro se a empresa da maçã vai restringir o uso dessa funcionalidade aos equipamentos da apple , ou vai fazer como as outras marcas que permitem o carregamento independente de quem for a dona do produto , precisando apenas ter a compatibilidade com a tecnologia qi.já no que diz respeito à capacidade de cada smartphone , há a possibilidade do sucesso do iphone xs ganhar um aumento entre 20-25 % da energia disponível nele , já a próximas geração do iphone xr vai ser bem mais modesta , atingindo um crescimento do rendimento entre 0-5 % .já estamos chegando ao fim do primeiro trimestre do ano e ficamos cada vez mais próximos do próximo grande lançamento de smartphones da apple que , como tradição , deve ocorrer novamente no mês de setembro . faltando cerca de seis meses para a revelação dos novos iphone xi e xi max ( onde xi faz referência ao número 11 em numeração romana ) , é a partir de agora que novos vazamentos podem indicar com grande força qual pode ser o design final dos novos aparelhos.após vazarem renderizações baseadas em protótipos que estariam sendo utilizados pela apple , indicando dois diferentes formatos para a câmera do dispositivo , agora surge um novo esquema do corpo do novo aparelho que pode indicar o design final adotado pela fabricante.como você pode conferir na imagem acima , vemos a carcaça do suposto iphone xi exibindo um grande furo no centro para o carregamento sem fio que pode ser reversível como do mate 20 e galaxy s10 , mas a grande curiosidade fica para os furos das câmeras no canto superior esquerdo da imagem.ali vemos três círculos completamente fora de alinhamento , sendo dois do lado esquerdo e um na direita . tal formato reforça o design curioso e extremamente fora do padrão da apple que você pode conferir abaixo , sendo este o possível ( mas obviamente ainda não garantido ) design final do iphone xi.como reforçado durante toda a matéria , ainda não é certo se este será o design final adotado pela apple para seus novos smartphones , então é necessário aguardar mais vazamentos para que possamos definir as escolhas da gigante de cupertino , mas até o momento , parece que ela não contará com o apoio de muitos usuários caso adote este design para as câmeras traseiras.você gostou do conjunto ? detestou a ideia das três câmeras traseiras neste formato ? comente sua opinião nos comentários ! os vazamentos sobre a próxima linha de iphones ainda surgem na internet . após rumores anteriores indicarem para a presença de um quadrado nas câmeras traseiras e sensor 3d , a nova especulação indica a existência de um recurso presente no galaxy s10.ele consiste na capacidade de recarregar os acessórios ao encostá-los na traseira do aparelho – powershare . de acordo com as informações , a apple estaria próxima de criar seu próprio carregamento reverso para o iphone xi . isso sinalizaria também para os próximos dispositivos da marca chegarem com baterias maiores.o recurso powershare do galaxy s10 deverá estar presente - com outro nome - no próximo iphone / imagem : reproduçãoentre os acessórios os quais seriam compatíveis com a tecnologia , estão os airpods recém-anunciados e os apple watches.outro ponto é em relação ao cabo utilizado para carregar os próximos iphones . a tendência é que a “ maçã ” utilize usb-c de 18w – presente já no ipad pro – em uma extremidade e lightning na outra . a mudança aceleraria a velocidade para encher a bateria do smartphone.a apple teria estudado colocar uma porta usb-c no lugar da lightning no próprio aparelho futuro , mas a decisão da fabricante norte-americana teria sido pela segunda opção de novo.quais são os seus palpites para a próxima família de iphones para 2019 ? participe conosco ! atualização ( 15/03/19 ) - por gustavo lima inacioiphones de 2019 devem mesmo contar com `` quadrado '' na traseira2019 chegou e algumas fabricantes já revelaram seus modelos topo de linha , como por exemplo a samsung , sony e lg , com seus galaxy s10 , xperia 1 e g8 thinq , por exemplo . a apple deve apresentar seus novos iphones lá pelo final do ano , e até lá , ainda temos tempo suficiente para conhecer mais dos dispositivos.agora , parece que o futuro iphone de 2019 irá mesmo ter o design quadrado , de maneira parecida com o que vemos no huawei mate 20 pro . e informações novas falam ainda que tanto a versão de 5,8 polegadas quanto a de 6,5 polegadas devem ter o mesmo visual . confira : com isso , temos ainda uma espécie de confirmação que , assim como aconteceu com o iphone xs e xs max , os modelos terão muito pouca diferença entre si , se diferenciando principalmente na questão de tamanho de tela . é dito ainda que a fabricação de acessórios já se iniciou , então nas próximas semanas aumentam as chances de vermos vazamentos falando sobre seu design.um novo dia , um novo rumor envolvendo os novos iphones da apple para 2019.dessa vez quem traz informações de bastidores é o portal financeiro bloomberg , que conseguiu coletar comentários sobre diversos produtos da gigante de cupertino vindos de pessoas que supostamente estão envolvidas com os mesmos.alguns relatos batem rumores anteriores , como uma câmera adicional na traseira dos smartphones . finalmente foi achado um propósito para elas , que atenderiam a serviços de realidade aumentada , com capacidade de leitura avançada do espaço tridimensional para uma reprodução fiel em ambiente virtual.além disso , esse terceiro sensor poderia tornar a experiência com fotografia no ios ainda melhor , vindo com um ângulo de abertura maior . uma utilidade seria fornecer ao usuário uma versão da foto tirada em maior amplitude , caso ele veja o resultado posteriormente e perceba que não encaixou alguns elementos da cena que desejava.os iphones de 2019 poderiam contar também com usb-c ao invés da tradicional lightning . a proposta seria fazer um apelo de produto mais popular , ao torná-lo compatível com carregadores mais acessíveis e genéricos para usuários que abririam mão de comprar um produto certificado pela empresa.além disso , é planejado , é claro , um novo chipset apple a bionic , prometendo o típico ganho de performance que vemos todos os anos.o portal também ouviu nomes ligados à produção dos ipads , que reforçaram o desenvolvimento de dois novos produtos : um novo modelo para a linha de entrada , e um lançamento para a série mini.já sobre o ios 13 a maçã está pretendendo finalmente oferecer um modo escuro nativo , o que beneficiaria os seus modelos com tela amoled . a nova versão do sistema operacional também traria novos aplicativos pré-instalados : um voltado para a assinatura de revistas e jornais , e outro para o streaming da apple , que pode ser lançado agora em abril.sobre 5g , esse é um recurso que deverá ser visto apenas nos modelos de 2020. a bloomberg também reduz as expectativas de quem espera por grandes mudanças visuais : acredita-se que o design dos produtos será o mesmo , com melhorias a nível de recursos.vale lembrar que a apple encolheu mais de us $ 300 bilhões em valor de mercado após a baixa vendagem dos iphones xr , xs , e xs max . em outubro , no seu ápice , chegou a valer us $ 1 trilhão . agora , a companhia confirma que as vendas ficaram 15 % abaixo do esperado , enquanto corre para oferecer novidades que recuperem o preço de suas ações.tim cook precisa , ao mesmo tempo , lidar com outros problemas , como o entortamento do novo ipad pro , que não deverá passar por atualização nesse ano . nada impede , porém , que os engenheiros da apple mudem um pouco o processo de fabricação do atual , para evitar que novos consumidores enfrentem o problema.as câmeras na vertical só foram introduzidas na linha x por falta de espaco na vertical , visto que o notch é seus sensores ocuparam muito espaço . acho estranho um módulo desse tamanho que basicamente é da largura das câmeras da linha plusos últimos vazamentos de top de linha das fabricantes vem acertando em cheio . sempre gostei dos iphones mas , quando surgiram rumores do iphone x , em 2017 , descri do design , que acabou se verificando no lançamento . não gosto do notch nem da atual posição das câmeras do iphone x e xs ( e entendo que não sobrou espaço para colocá-la na orientação clássica ) . tenho medo desse design se concretizar em setembro . além dos preços cada vez mais ridículos , parece que a apple começou a seguir a ideia também para o design.prefiro o apple fold que é inquebrável ! ! . não pera ! ! a apple não produz tela e compra da bosta da lg e samsung as mesmas , que ironia ! ! ! iphone 11 deverá utilizar chips da samsung ou da mediatek ..kkkkkk . não passa de uma mera montadora de peças.se o iphone tiver o notch ultrapassado , vai ser lindo ! se o iphone continuar entortando , vai ser show ! se o iphone vier na versão cor de merd4 , vai ser mais lindo ainda . se precisar de financiamento imobiliário para comprar um iphone , vamos fazer ! o que a apple cagar , vai ter sempre um monte de gente embaixo , com a boca aberta esperando tim cook defecar nelas.primeiro que eu não quero e nem preciso de um smartphone tão caro e com tanta potência segundo , mesmo que eu quisesse , eu compraria um galaxy note 10 ou mi mix 4 ao invés de qualquer merda da apple terceiro , ponha-se no seu lugar ao invés de citar as condições financeiras de qualquer pessoa sem saber sobre elas quarto , para de ser fanboy , isso é ridículo.o ruim é quando atualizam a matéria e deixam as informações anteriores no texto aí a gente vai ler informações de como pode ser o hardware começa a ler e no mesmo texto tem varios rumores sobre como pode ser o hardware , fica muito o texto..o tudo celular é tão pela saco da apple que não menciona na matéria que isso é uma cópia do huawei mate 20 pro . entretanto , quando qualquer fabricante android , incluindo a huawei , copia qualquer coisa da maça , ai meu amigo , taca-lhe pau na fabricante . kkkkkkkkkkkkkkkkkkkkkkkkkkkkkkkkkkkkkkkkkkkkkkkkkk kkkk .\n"
     ]
    }
   ],
   "source": [
    "print(' '.join(doc2))"
   ]
  },
  {
   "cell_type": "markdown",
   "metadata": {},
   "source": [
    "Conteúdo do ```doc3```:"
   ]
  },
  {
   "cell_type": "code",
   "execution_count": 19,
   "metadata": {
    "scrolled": true
   },
   "outputs": [
    {
     "name": "stdout",
     "output_type": "stream",
     "text": [
      "não existe nível seguro de consumo de álcool , mostra pesquisapesquisa diz que beber moderadamente pode proteger o coração , mas risco de câncer e outros males se sobrepõecopiar link24.ago.2018 às 18h04ouvir o textolaurel ivesuma má notícia para quem gosta de tomar uma taça de vinho no fim do dia , acreditando ser um hábito saudável.um novo estudo global , publicado na revista científica the lancet , confirmou o que algumas pesquisas anteriores diziam : não existe um nível seguro para o consumo de álcool.os pesquisadores admitem que beber moderadamente pode proteger contra doenças cardíacas , mas sugerem que o risco de desenvolver câncer e outros males se sobrepõe aos benefícios.de acordo com os autores do estudo , essas descobertas são as mais significativas já realizadas até hoje , devido à variedade de fatores levados em conta na pesquisa.​estudo indica que tomar uma dose de bebida por dia também aumenta os riscos para a saúde - getty imagesquão arriscado é beber moderadamente ? o estudo , que faz parte da série fardo global das doenças ( gbd , na sigla em inglês ) , analisou os níveis de consumo de álcool e seus efeitos sobre a saúde em 195 países de 1990 a 2016.na pesquisa , realizada com participantes de 15 a 95 anos , os cientistas compararam pessoas que não bebem álcool com consumidores de bebida alcóolica.e descobriram que , dos 100 mil abstêmios , 914 desenvolveram problemas de saúde relacionados ao álcool , como câncer , ou sofreram alguma lesão.já quem toma diariamente uma dose –equivalente a 10 gramas de álcool puro– apresenta um risco 0,5 % maior , se comparado a quem não bebe.se o consumo for de duas doses por dia , o risco sobe para 7 % . e , no caso de cinco doses diárias , chega a ser 37 % maior . `` um drinque por dia significa um aumento pequeno do risco , mas se você ajusta isso à população do reino unido , representa um número muito maior . e a maioria das pessoas não toma apenas uma bebida por dia '' , diz a médica sonia saxena , pesquisadora do imperial college london , no reino unido , uma das autoras do estudo . `` estudos prévios identificaram um efeito protetor do álcool em relação a algumas condições , mas descobrimos que os riscos combinados à saúde associados ao álcool aumentam com qualquer quantidade ( consumida ) '' , completa max griswold , principal autor da pesquisa , da universidade de washington , nos eua . `` a forte associação entre o consumo de álcool e o risco de câncer , lesões e doenças infecciosas compensa os efeitos protetores contra doenças cardíacas . `` `` e embora os riscos para a saúde do álcool comecem pequenos , com uma dose por dia , eles crescem rapidamente à medida que as pessoas bebem mais '' , alerta.no reino unido , o sistema de saúde recomenda , desde 2016 , que homens e mulheres não bebam mais do que 14 `` unidades '' de álcool por semana , o equivalente a seis pints ( medida inglesa que corresponde a 560 ml ) de cerveja de moderado teor alcoólico ou a dez taças pequenas de vinho de baixo teor alcoólico.na época , a professora dame sally davies , chefe de saúde do governo britânico , observou que qualquer quantidade de álcool poderia aumentar o risco de câncer.tomar uma taça de vinho por dia pode não ser tão saudável , dizem pesquisadores - getty imagesa pesquisadora sonia saxena ressalta que o estudo é o mais importante já realizado até hoje sobre o tema . `` este estudo vai além de outros ao levar em conta uma série de fatores , incluindo as vendas de álcool , dados dos participantes sobre a quantidade de álcool ingerida , abstinência , informações sobre turismo e taxas sobre comércio ilegal e cervejarias artesanais '' , explica.em todo o mundo , estima-se que uma em cada três pessoas consuma bebida alcoólica , responsável por quase um décimo das mortes de pessoas entre 15 e 49 anos . `` a maioria de nós , no reino unido , bebe muito além dos limites de segurança , e como o estudo mostra , não existe limite seguro . as recomendações do sistema de saúde precisam ser reduzidas ainda mais e o governo precisa repensar sua política . se você vai beber , informe-se sobre os riscos e assuma um risco consciente '' , diz saxena.já o professor david spiegelhalter , pesquisador universidade de cambridge , no reino unido , divulgou uma nota de advertência em relação aos resultados do estudo . `` dado o prazer presumivelmente associado ao consumo moderado , alegar que não há um nível 'seguro ' não parece um argumento para a abstenção '' , diz ele . `` não há nível seguro para dirigir , mas o governo não recomenda que as pessoas evitem dirigir . `` `` reflita um pouco a respeito , não existe nível seguro para viver , mas ninguém recomendaria desistir ( da vida ) '' .copyright folha de s.paulo . todos os direitos reservados . é proibida a reprodução do conteúdo desta página em qualquer meio de comunicação , eletrônico ou impresso , sem autorização escrita da folhapress .\n"
     ]
    }
   ],
   "source": [
    "print(' '.join(doc3))"
   ]
  },
  {
   "cell_type": "markdown",
   "metadata": {},
   "source": [
    "Cálculo de similariade entre os textos:"
   ]
  },
  {
   "cell_type": "code",
   "execution_count": 20,
   "metadata": {},
   "outputs": [
    {
     "name": "stdout",
     "output_type": "stream",
     "text": [
      "0.642591118812561\n"
     ]
    }
   ],
   "source": [
    "print(similarity(vector_1, vector_2))"
   ]
  },
  {
   "cell_type": "code",
   "execution_count": 21,
   "metadata": {},
   "outputs": [
    {
     "name": "stdout",
     "output_type": "stream",
     "text": [
      "0.9661234021186829\n"
     ]
    }
   ],
   "source": [
    "print(similarity(vector_1, vector_3))"
   ]
  },
  {
   "cell_type": "code",
   "execution_count": 22,
   "metadata": {},
   "outputs": [
    {
     "name": "stdout",
     "output_type": "stream",
     "text": [
      "0.6401811242103577\n"
     ]
    }
   ],
   "source": [
    "print(similarity(vector_2, vector_3))"
   ]
  },
  {
   "cell_type": "markdown",
   "metadata": {},
   "source": [
    "### Comentários acerca dos resultados do modelo"
   ]
  },
  {
   "cell_type": "markdown",
   "metadata": {},
   "source": [
    "- Os resultados obtidos nas comparações do Doc2Vec não foram satisfatórios, uma vez que mostrou alto grau de similaridade entre entre ```doc1``` e ```doc3```, o que não faz sentido, pois o primeiro fala sobre polêmicas da Hawuei e o segundo sobre consumo de álcool.\n",
    "- Foi feito o mesmo procedimento, mas fazendo normalização removendo pontuações e stopwords, mas os valores de similaridade continuaram bem parecidos com o anterior."
   ]
  },
  {
   "cell_type": "code",
   "execution_count": null,
   "metadata": {},
   "outputs": [],
   "source": []
  }
 ],
 "metadata": {
  "kernelspec": {
   "display_name": "Python 3",
   "language": "python",
   "name": "python3"
  },
  "language_info": {
   "codemirror_mode": {
    "name": "ipython",
    "version": 3
   },
   "file_extension": ".py",
   "mimetype": "text/x-python",
   "name": "python",
   "nbconvert_exporter": "python",
   "pygments_lexer": "ipython3",
   "version": "3.7.3"
  }
 },
 "nbformat": 4,
 "nbformat_minor": 2
}
