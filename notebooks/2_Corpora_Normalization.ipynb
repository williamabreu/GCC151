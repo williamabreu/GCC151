{
 "cells": [
  {
   "cell_type": "markdown",
   "metadata": {},
   "source": [
    "# Normalização dos Corpora"
   ]
  },
  {
   "cell_type": "markdown",
   "metadata": {},
   "source": [
    "Este notebook cria o modelo normalizado dos corpora compilados, de forma que:\n",
    "- Constrói o modelo a partir das sentenças do córpus\n",
    "- Faz o uso do modelo obtido para consultar similaridade de palavras\n",
    "- Apresenta comentários acerca dos resultados obtidos"
   ]
  },
  {
   "cell_type": "markdown",
   "metadata": {},
   "source": [
    "## Configurações Iniciais"
   ]
  },
  {
   "cell_type": "markdown",
   "metadata": {},
   "source": [
    "Primeiramente, fazer o ajuste no path do Python para a raíz do projeto:"
   ]
  },
  {
   "cell_type": "code",
   "execution_count": 2,
   "metadata": {},
   "outputs": [],
   "source": [
    "import os\n",
    "os.chdir('..')"
   ]
  },
  {
   "cell_type": "markdown",
   "metadata": {},
   "source": [
    "-------------------"
   ]
  },
  {
   "cell_type": "markdown",
   "metadata": {},
   "source": [
    "## Modelo Word2Vec"
   ]
  },
  {
   "cell_type": "markdown",
   "metadata": {},
   "source": [
    "Carregar a biblioteca do modelo ```Word2Vec``` e do normalizador:"
   ]
  },
  {
   "cell_type": "code",
   "execution_count": 3,
   "metadata": {},
   "outputs": [],
   "source": [
    "from gensim.models import Word2Vec\n",
    "from nlputils.lexical.normalizer import Normalizer"
   ]
  },
  {
   "cell_type": "markdown",
   "metadata": {},
   "source": [
    "Instanciar um objeto para fazer as normalizações necessárias:"
   ]
  },
  {
   "cell_type": "code",
   "execution_count": 4,
   "metadata": {},
   "outputs": [],
   "source": [
    "normalizer = Normalizer()"
   ]
  },
  {
   "cell_type": "markdown",
   "metadata": {},
   "source": [
    "Implementar uma função para auxiliar no carregamento das sentenças a serem usadas no treinamento do modelo. "
   ]
  },
  {
   "cell_type": "markdown",
   "metadata": {},
   "source": [
    "A função ```load_sentences``` recebe como entrada a string indicando o path do diretório do córpus a ser usado, retornando a lista contendo todas as sentenças desse córpus:"
   ]
  },
  {
   "cell_type": "code",
   "execution_count": 5,
   "metadata": {},
   "outputs": [],
   "source": [
    "def load_sentences(corpus_dir):   \n",
    "    all_sentences = []\n",
    "    for file_path in os.listdir(corpus_dir):\n",
    "        with open(corpus_dir + file_path) as fp:\n",
    "            for line in fp:\n",
    "                line = normalizer.to_lowercase(line)\n",
    "                sentences = normalizer.tokenize_sentences(line)\n",
    "                sentences = [normalizer.tokenize_words(sent) for sent in sentences]\n",
    "                all_sentences.extend(sentences)\n",
    "    return all_sentences"
   ]
  },
  {
   "cell_type": "markdown",
   "metadata": {},
   "source": [
    "----------------"
   ]
  },
  {
   "cell_type": "markdown",
   "metadata": {},
   "source": [
    "## Word2Vec do Córpus Telefonia"
   ]
  },
  {
   "cell_type": "markdown",
   "metadata": {},
   "source": [
    "Primeiro, carregar todas as sentenças do córpus:"
   ]
  },
  {
   "cell_type": "code",
   "execution_count": 6,
   "metadata": {},
   "outputs": [],
   "source": [
    "telefonia_sentences = load_sentences('data/corpora/telefonia/')"
   ]
  },
  {
   "cell_type": "markdown",
   "metadata": {},
   "source": [
    "Depois, usar as sentenças obtidas como treinamento do modelo, que será instanciado em ```telefonia_w2vmodel```:"
   ]
  },
  {
   "cell_type": "code",
   "execution_count": 7,
   "metadata": {},
   "outputs": [],
   "source": [
    "telefonia_w2vmodel = Word2Vec(telefonia_sentences, size=200, window=5, min_count=3, workers=4)"
   ]
  },
  {
   "cell_type": "markdown",
   "metadata": {},
   "source": [
    "### Usando o modelo construído"
   ]
  },
  {
   "cell_type": "markdown",
   "metadata": {},
   "source": [
    "Com o modelo construído, pode ser feita a consulta das 10 palavras mais similares de uma dada palavras, usando o método ```wv.most_similar```. A seguir e dado o exemplo de uso com três palavras:"
   ]
  },
  {
   "cell_type": "code",
   "execution_count": 16,
   "metadata": {},
   "outputs": [
    {
     "name": "stdout",
     "output_type": "stream",
     "text": [
      "telefonia ==> colocar, ceo, netflix, uns, terá, cook, tim, reais, mil, segurança\n",
      "sistema ==> xperia, minha, dela, problemas, usar, tive, s9, fez, serviço, uso\n",
      "internet ==> após, segurança, espaço, protótipos, foram, tim, algumas, mil, 2, semana\n"
     ]
    }
   ],
   "source": [
    "words = ['telefonia', 'sistema', 'internet']\n",
    "\n",
    "for word in words:\n",
    "    top10 = telefonia_w2vmodel.wv.most_similar(word)\n",
    "    print(word, '==>', ', '.join([x[0] for x in top10]))"
   ]
  },
  {
   "cell_type": "markdown",
   "metadata": {},
   "source": [
    "### Comentários acerca dos resultados do modelo"
   ]
  },
  {
   "cell_type": "markdown",
   "metadata": {},
   "source": [
    "- O modelo é impreciso, devido ao córpus ser composto por poucos documentos.\n",
    "- Além disso, a formatação dos documentos não é perfeita, existem palavras que estão concatenadas entre si ou com sinais de ponto final, o que deixa muita sujeira nos dados do treinamento."
   ]
  },
  {
   "cell_type": "markdown",
   "metadata": {},
   "source": [
    "---------------"
   ]
  },
  {
   "cell_type": "markdown",
   "metadata": {},
   "source": [
    "## Word2Vec do Córpus Saúde"
   ]
  },
  {
   "cell_type": "markdown",
   "metadata": {},
   "source": [
    "Primeiro, carregar todas as sentenças do córpus:"
   ]
  },
  {
   "cell_type": "code",
   "execution_count": 21,
   "metadata": {},
   "outputs": [],
   "source": [
    "saude_sentences = load_sentences('data/corpora/saude/')"
   ]
  },
  {
   "cell_type": "markdown",
   "metadata": {},
   "source": [
    "Depois, usar as sentenças obtidas como treinamento do modelo, que será instanciado em ```telefonia_w2vmodel```:"
   ]
  },
  {
   "cell_type": "code",
   "execution_count": 27,
   "metadata": {},
   "outputs": [],
   "source": [
    "saude_w2vmodel = Word2Vec(saude_sentences, size=200, window=5, min_count=3, workers=4)"
   ]
  },
  {
   "cell_type": "markdown",
   "metadata": {},
   "source": [
    "### Usando o modelo construído"
   ]
  },
  {
   "cell_type": "markdown",
   "metadata": {},
   "source": [
    "Com o modelo construído, pode ser feita a consulta das 10 palavras mais similares de uma dada palavras, usando o método ```wv.most_similar```. A seguir e dado o exemplo de uso com três palavras:"
   ]
  },
  {
   "cell_type": "code",
   "execution_count": 28,
   "metadata": {},
   "outputs": [
    {
     "name": "stdout",
     "output_type": "stream",
     "text": [
      "saúde ==> universidade, brasileira, febrasgo, sociedade, organização, aliança, regulamenta, desenvolvida, usp, da\n",
      "doença ==> tudo, segura, verdade, medo, entender, esse, algo, trabalhar, necessário, longo\n",
      "prevenção ==> criação, redução, deles, alta, série, nome, direito, chegou, compartilhar, surgiu\n"
     ]
    }
   ],
   "source": [
    "words = ['saúde', 'doença', 'prevenção']\n",
    "\n",
    "for word in words:\n",
    "    top10 = saude_w2vmodel.wv.most_similar(word)\n",
    "    print(word, '==>', ', '.join([x[0] for x in top10]))"
   ]
  },
  {
   "cell_type": "markdown",
   "metadata": {},
   "source": [
    "### Comentários acerca dos resultados do modelo"
   ]
  },
  {
   "cell_type": "markdown",
   "metadata": {},
   "source": [
    "- O modelo é impreciso, devido ao córpus ser composto por poucos documentos.\n",
    "- Além disso, a formatação dos documentos não é perfeita, existem palavras que estão concatenadas entre si ou com sinais de ponto final, o que deixa muita sujeira nos dados do treinamento."
   ]
  },
  {
   "cell_type": "markdown",
   "metadata": {},
   "source": [
    "-----------------"
   ]
  },
  {
   "cell_type": "markdown",
   "metadata": {},
   "source": [
    "## Modelo Doc2Vec"
   ]
  },
  {
   "cell_type": "markdown",
   "metadata": {},
   "source": [
    "Carregar as bibliotecas do modelo ```Doc2Vec``` e ```scipy``` para cálculos:"
   ]
  },
  {
   "cell_type": "code",
   "execution_count": 42,
   "metadata": {},
   "outputs": [],
   "source": [
    "from gensim.models import Doc2Vec\n",
    "from gensim.models.doc2vec import TaggedDocument\n",
    "from scipy import spatial"
   ]
  },
  {
   "cell_type": "markdown",
   "metadata": {},
   "source": [
    "Implementar função para facilitar obtenção de todos os documentos dos corpora:"
   ]
  },
  {
   "cell_type": "code",
   "execution_count": 36,
   "metadata": {},
   "outputs": [],
   "source": [
    "def corpus_documents(corpus_dir):\n",
    "    all_documents = []\n",
    "    for file in os.listdir(corpus_dir):\n",
    "        with open(corpus_dir + file) as text_file:\n",
    "            document = ' '.join(text_file.readlines())\n",
    "            document = normalizer.to_lowercase(document)\n",
    "            document_tokens = normalizer.tokenize_words(document)\n",
    "            all_documents.append(document_tokens)\n",
    "    return all_documents"
   ]
  },
  {
   "cell_type": "markdown",
   "metadata": {},
   "source": [
    "Juntar os documentos dos dois córpus, telefonia e saúde, para montar a tag que será usada na construção do modelo Doc2Vec:"
   ]
  },
  {
   "cell_type": "code",
   "execution_count": 40,
   "metadata": {},
   "outputs": [],
   "source": [
    "all_documents = []\n",
    "all_documents.extend(corpus_documents('data/corpora/telefonia/'))\n",
    "all_documents.extend(corpus_documents('data/corpora/saude/'))\n",
    "\n",
    "tagged_documents = [TaggedDocument(words=d, tags=[str(i)]) for i, d in enumerate(all_documents)]"
   ]
  },
  {
   "cell_type": "markdown",
   "metadata": {},
   "source": [
    "Construção do modelo, atribuído em ```d2vmodel```:"
   ]
  },
  {
   "cell_type": "code",
   "execution_count": 41,
   "metadata": {},
   "outputs": [],
   "source": [
    "d2vmodel = Doc2Vec(tagged_documents, vector_size=20, window=2, min_count=1, workers=4)"
   ]
  },
  {
   "cell_type": "markdown",
   "metadata": {},
   "source": [
    "### Usando o modelo construído"
   ]
  },
  {
   "cell_type": "markdown",
   "metadata": {},
   "source": [
    "O modelo criado pode ser usado para comparar o grau de semelhança entre dois documentos. Para isso, será usada a função ```similarity```, que recebe dois vetores inferidos pelo modelo e retorna o valor calculado de semelhança (entre 0 e 1):"
   ]
  },
  {
   "cell_type": "code",
   "execution_count": 50,
   "metadata": {},
   "outputs": [],
   "source": [
    "def similarity(vector1, vector2):\n",
    "    return 1 - spatial.distance.cosine(vector1, vector2)"
   ]
  },
  {
   "cell_type": "markdown",
   "metadata": {},
   "source": [
    "Será exemplificado o uso usando três documentos:"
   ]
  },
  {
   "cell_type": "code",
   "execution_count": 54,
   "metadata": {},
   "outputs": [],
   "source": [
    "vector_tec_1 = d2vmodel.infer_vector(all_documents[0])\n",
    "vector_tec_2 = d2vmodel.infer_vector(all_documents[1])\n",
    "vector_sau_1 = d2vmodel.infer_vector(all_documents[-1])"
   ]
  },
  {
   "cell_type": "code",
   "execution_count": 55,
   "metadata": {},
   "outputs": [
    {
     "name": "stdout",
     "output_type": "stream",
     "text": [
      "0.5698763728141785\n"
     ]
    }
   ],
   "source": [
    "print(similarity(vector_tec_1, vector_tec_2))"
   ]
  },
  {
   "cell_type": "code",
   "execution_count": 56,
   "metadata": {},
   "outputs": [
    {
     "name": "stdout",
     "output_type": "stream",
     "text": [
      "0.960691511631012\n"
     ]
    }
   ],
   "source": [
    "print(similarity(vector_tec_1, vector_sau_1))"
   ]
  },
  {
   "cell_type": "code",
   "execution_count": 57,
   "metadata": {},
   "outputs": [
    {
     "name": "stdout",
     "output_type": "stream",
     "text": [
      "0.6471773982048035\n"
     ]
    }
   ],
   "source": [
    "print(similarity(vector_tec_2, vector_sau_1))"
   ]
  },
  {
   "cell_type": "code",
   "execution_count": 60,
   "metadata": {},
   "outputs": [
    {
     "data": {
      "text/plain": [
       "'apesar da ótima notícia para a netflix , críticos sugerem que a vitória talvez não dure tanto tempo , vendo que a renda anual da disney é de aproximadamente us $ 55,1 bilhões , enquanto a da gigante de serviços de streaming chega a apenas um quinto do valor ( us $ 11,6 bilhões ) .e isso mesmo mas esse valor não é líquido provavelmente o líquido não passa de 100 bilhões , a netflix quase não lucra assim como a xiaomi essas 2 não jogam pra lucrar mas sim para aumentar valor de mercado'"
      ]
     },
     "execution_count": 60,
     "metadata": {},
     "output_type": "execute_result"
    }
   ],
   "source": [
    "' '.join(all_documents[0])"
   ]
  },
  {
   "cell_type": "code",
   "execution_count": null,
   "metadata": {},
   "outputs": [],
   "source": []
  }
 ],
 "metadata": {
  "kernelspec": {
   "display_name": "Python 3",
   "language": "python",
   "name": "python3"
  },
  "language_info": {
   "codemirror_mode": {
    "name": "ipython",
    "version": 3
   },
   "file_extension": ".py",
   "mimetype": "text/x-python",
   "name": "python",
   "nbconvert_exporter": "python",
   "pygments_lexer": "ipython3",
   "version": "3.7.3"
  }
 },
 "nbformat": 4,
 "nbformat_minor": 2
}
