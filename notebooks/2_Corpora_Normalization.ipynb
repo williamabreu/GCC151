{
 "cells": [
  {
   "cell_type": "markdown",
   "metadata": {},
   "source": [
    "# Normalização dos Corpora"
   ]
  },
  {
   "cell_type": "code",
   "execution_count": 1,
   "metadata": {},
   "outputs": [],
   "source": [
    "import os\n",
    "os.chdir('..')"
   ]
  },
  {
   "cell_type": "code",
   "execution_count": 2,
   "metadata": {},
   "outputs": [],
   "source": [
    "from gensim.models import Word2Vec, Doc2Vec\n",
    "from gensim.models.doc2vec import TaggedDocument"
   ]
  },
  {
   "cell_type": "code",
   "execution_count": 3,
   "metadata": {},
   "outputs": [],
   "source": [
    "from nlputils.lexical.normalizer import Normalizer"
   ]
  },
  {
   "cell_type": "code",
   "execution_count": 4,
   "metadata": {},
   "outputs": [],
   "source": [
    "normalizer = Normalizer()"
   ]
  },
  {
   "cell_type": "code",
   "execution_count": 5,
   "metadata": {},
   "outputs": [],
   "source": [
    "def load_sentences(corpus_dir):   \n",
    "    all_sentences = []\n",
    "    for file_path in os.listdir(corpus_dir):\n",
    "        with open(corpus_dir + file_path) as fp:\n",
    "            for line in fp:\n",
    "                line = normalizer.to_lowercase(line)\n",
    "                sentences = normalizer.tokenize_sentences(line)\n",
    "                sentences = [normalizer.tokenize_words(sent) for sent in sentences]\n",
    "                all_sentences.extend(sentences)\n",
    "    return all_sentences"
   ]
  },
  {
   "cell_type": "markdown",
   "metadata": {},
   "source": [
    "## Córpus Telefonia"
   ]
  },
  {
   "cell_type": "code",
   "execution_count": 8,
   "metadata": {},
   "outputs": [],
   "source": [
    "telefonia_sentences = load_sentences('data/corpora/telefonia/')"
   ]
  },
  {
   "cell_type": "code",
   "execution_count": 9,
   "metadata": {},
   "outputs": [],
   "source": [
    "w2vmodel_telefonia = Word2Vec(telefonia_sentences, size=200, window=5, min_count=3, workers=4)"
   ]
  },
  {
   "cell_type": "code",
   "execution_count": 30,
   "metadata": {},
   "outputs": [
    {
     "data": {
      "text/plain": [
       "[('serviço', 0.9998871088027954),\n",
       " ('trump', 0.9998842477798462),\n",
       " ('hoje', 0.999881386756897),\n",
       " ('brasileiro', 0.9998754262924194),\n",
       " ('outros', 0.999870240688324),\n",
       " ('depois', 0.9998632073402405),\n",
       " ('nunca', 0.9998611211776733),\n",
       " ('baixo', 0.9998608827590942),\n",
       " ('nesse', 0.9998584985733032),\n",
       " ('premium', 0.9998577833175659)]"
      ]
     },
     "execution_count": 30,
     "metadata": {},
     "output_type": "execute_result"
    }
   ],
   "source": [
    "w2vmodel_telefonia.wv.most_similar('telefone')"
   ]
  },
  {
   "cell_type": "markdown",
   "metadata": {},
   "source": [
    "## Córpus Saúde"
   ]
  },
  {
   "cell_type": "code",
   "execution_count": 31,
   "metadata": {},
   "outputs": [],
   "source": [
    "saude_sentences = load_sentences('data/corpora/saude/')"
   ]
  },
  {
   "cell_type": "code",
   "execution_count": 32,
   "metadata": {},
   "outputs": [],
   "source": [
    "w2vmodel_saude = Word2Vec(saude_sentences, size=200, window=5, min_count=3, workers=4)"
   ]
  },
  {
   "cell_type": "code",
   "execution_count": 33,
   "metadata": {},
   "outputs": [
    {
     "data": {
      "text/plain": [
       "[('faz', 0.9993070960044861),\n",
       " ('vírus', 0.9989165663719177),\n",
       " ('feito', 0.998900830745697),\n",
       " ('impacto', 0.9987791180610657),\n",
       " ('grande', 0.998769998550415),\n",
       " ('boa', 0.9987643361091614),\n",
       " ('remédio', 0.998640239238739),\n",
       " ('homem', 0.9986361861228943),\n",
       " ('medicamento', 0.9986277222633362),\n",
       " ('sair', 0.9985885620117188)]"
      ]
     },
     "execution_count": 33,
     "metadata": {},
     "output_type": "execute_result"
    }
   ],
   "source": [
    "w2vmodel_saude.wv.most_similar('doença')"
   ]
  },
  {
   "cell_type": "code",
   "execution_count": null,
   "metadata": {},
   "outputs": [],
   "source": []
  }
 ],
 "metadata": {
  "kernelspec": {
   "display_name": "Python 3",
   "language": "python",
   "name": "python3"
  },
  "language_info": {
   "codemirror_mode": {
    "name": "ipython",
    "version": 3
   },
   "file_extension": ".py",
   "mimetype": "text/x-python",
   "name": "python",
   "nbconvert_exporter": "python",
   "pygments_lexer": "ipython3",
   "version": "3.7.3"
  }
 },
 "nbformat": 4,
 "nbformat_minor": 2
}
